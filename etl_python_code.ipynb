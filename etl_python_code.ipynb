{
 "cells": [
  {
   "cell_type": "code",
   "execution_count": null,
   "metadata": {},
   "outputs": [],
   "source": [
    "#Dependencies\n",
    "import pandas as pd\n",
    "import pymongo"
   ]
  },
  {
   "cell_type": "code",
   "execution_count": null,
   "metadata": {},
   "outputs": [],
   "source": [
    "conn = 'mongodb://localhost:27017'\n",
    "client = pymongo.MongoClient(conn)\n",
    "# Declare tha Database\n",
    "db = client.diversity_income_db\n",
    "# Declare the collection\n",
    "collection = db.diversity_income_db\n"
   ]
  },
  {
   "cell_type": "code",
   "execution_count": null,
   "metadata": {},
   "outputs": [],
   "source": [
    "#Create diversity data dataframe\n",
    "diversity_df = pd.read_csv('Resources/diversity_data.csv')\n",
    "diversity_df['County'],diversity_df['State'] = diversity_df['Location'].str.rsplit(', ').str\n",
    "diversity_df = diversity_df.drop(columns=['Location'])\n",
    "diversity_df.head()\n"
   ]
  },
  {
   "cell_type": "code",
   "execution_count": null,
   "metadata": {},
   "outputs": [],
   "source": [
    "#Create income data dataframe\n",
    "income_df = pd.read_csv('Resources/income_data.csv')\n",
    "income_df['State'] = income_df['State Code']\n",
    "income_df = income_df.drop(columns=['State Code', 'County-State'])\n",
    "income_df.head()\n"
   ]
  },
  {
   "cell_type": "code",
   "execution_count": null,
   "metadata": {},
   "outputs": [],
   "source": [
    "#Combined dataframe merged on both county and state\n",
    "combined_df = income_df.merge(diversity_df, how = 'inner', right_on= ['County', 'State'], \n",
    "                left_on= ['County', 'State'])\n",
    "#Drop rows with missing values\n",
    "combined_df = combined_df.dropna(axis = 'columns')\n",
    "#Head of dataframe\n",
    "combined_df.head()\n"
   ]
  },
  {
   "cell_type": "code",
   "execution_count": null,
   "metadata": {},
   "outputs": [],
   "source": [
    "#Create \n",
    "db.collection.insert_many(combined_df.to_dict('records'))"
   ]
  },
  {
   "cell_type": "code",
   "execution_count": null,
   "metadata": {},
   "outputs": [],
   "source": [
    "### Brian's code here"
   ]
  },
  {
   "cell_type": "code",
   "execution_count": null,
   "metadata": {},
   "outputs": [],
   "source": [
    "# Query will find every county in Rhode Island\n",
    "myquery = { \"State\": \"RI\" }\n",
    "ri = db.collection.find(myquery)\n",
    "#Find the population and hispanic percentage in each county\n",
    "population_ri =[]\n",
    "hispanic_ri = []\n",
    "for x in ri:\n",
    "    population_ri.append(x['Population'])\n",
    "    hispanic_ri.append(x['Hispanic or Latino, percent, 2013'])"
   ]
  },
  {
   "cell_type": "code",
   "execution_count": null,
   "metadata": {},
   "outputs": [],
   "source": [
    "### Brian's code ends"
   ]
  },
  {
   "cell_type": "code",
   "execution_count": null,
   "metadata": {},
   "outputs": [],
   "source": []
  },
  {
   "cell_type": "code",
   "execution_count": null,
   "metadata": {},
   "outputs": [],
   "source": [
    "### Vikash's code here"
   ]
  },
  {
   "cell_type": "code",
   "execution_count": null,
   "metadata": {},
   "outputs": [],
   "source": []
  },
  {
   "cell_type": "code",
   "execution_count": null,
   "metadata": {},
   "outputs": [],
   "source": [
   ]
  },
  {
   "cell_type": "code",
   "execution_count": null,
   "metadata": {},
   "outputs": [],
   "source": [
    "conn = 'mongodb://localhost:27017'\n",
    "client = pymongo.MongoClient(conn)\n",
    "\n",
    "# Declare tha Database\n",
    "db = client.diversity_income_db\n",
    "\n",
    "# Declare the collection\n",
    "collection = db.diversity_income_db.collection"
   ]
  },
  {
   "cell_type": "code",
   "execution_count": null,
   "metadata": {},
   "outputs": [],
   "source": [
    "income_file = \"Resources/income_data.csv\"\n",
    "income_df =pd.read_csv(income_file)\n",
    "income_df.head()"
    "# Median Income\n",
    "median_df = pd.read_csv('Resources/income_data.csv')\n",
    "median_df.head()"
   ]
  },
  {
   "cell_type": "code",
   "execution_count": null,
   "metadata": {},
   "outputs": [],
   "source": [
    "diversity_file = \"Resources/diversity_data.csv\"\n",
    "deversity_df = pd.read_csv(diversity_file)\n",
    "diversity_df.head()"
    "# Insert the document into the database\n",
    "# The database and collection, if they don't already exits, will created at this point\n",
    "db.collection.insert_many(median_df.to_dict('records'))"
   ]
  },
  {
   "cell_type": "code",
   "execution_count": null,
   "metadata": {},
   "outputs": [],
   "source": [
    "new_df = deversity_df"
    "# Population DataSet\n",
    "median_df = median_df[['County',\"State Code\", 'Population',\"Median household income\"]]\n",
    "median_df.head()"
   ]
  },
  {
   "cell_type": "code",
   "execution_count": null,
   "metadata": {},
   "outputs": [],
   "source": [
    "new_df['County'],new_df['State'] = diversity_df['Location'].str.rsplit(', ').str\n",
    "new_df.head()"
   ]
   "source": []
  },
  {
   "cell_type": "code",
   "execution_count": null,
   "metadata": {},
   "outputs": [],
   "source": [
    "new_df2 = pd.DataFrame({\"Diversity-Index\":new_df.groupby([\"State\",\"County\"])[\"Diversity-Index\"].mean(),\n",
    "                       \"Black\":new_df.groupby([\"State\",\"County\"])[\"Black or African American alone, percent, 2013\"].mean(),\n",
    "                       \"American Indian\":new_df.groupby([\"State\",\"County\"])[\"American Indian and Alaska Native alone, percent, 2013\"].mean(),\n",
    "                       \"Asian\":new_df.groupby([\"State\",\"County\"])[\"Asian alone, percent, 2013\"].mean(),\n",
    "                       \"Native Hawaiian\":new_df.groupby([\"State\",\"County\"])[\"Native Hawaiian and Other Pacific Islander alone, percent,\"].mean(),\n",
    "                       \"Two or More Races\":new_df.groupby([\"State\",\"County\"])[\"Two or More Races, percent, 2013\"].mean(),\n",
    "                       \"Hispanic/ Latino\":new_df.groupby([\"State\",\"County\"])[\"Hispanic or Latino, percent, 2013\"].mean(),\n",
    "                       \"White\":new_df.groupby([\"State\",\"County\"])[\"White alone, not Hispanic or Latino, percent, 2013\"].mean()})"
    "Mydata = pd.DataFrame(list(db.collection.find()))\n",
    "Mydata.head()"
   ]
  },
  {
   "cell_type": "code",
   "execution_count": null,
   "metadata": {},
   "outputs": [],
   "source": [
    "# the count on median income state wise\n",
    "Mydata['Median household income'].count()\n",
    "#median_df.head()"
   ]
  },
  {
   "cell_type": "code",
   "execution_count": null,
   "metadata": {},
   "outputs": [],
   "source": [
    "df3 = new_df2.reset_index()\n",
    "df3.head()"
    "# max median income \n",
    "Mydata['Median household income'].max()\n",
    "#median_df.head()"
   ]
  },
  {
   "cell_type": "code",
   "execution_count": null,
   "metadata": {},
   "outputs": [],
   "source": [
    "merged = pd.merge(new_df2,deversity_df, on=[\"State\",'County'],how=\"inner\")\n",
    "merged.head()"
    "# min median income \n",
    "Mydata['Median household income'].min()\n",
    "#median_df.head()"
   ]
  },
  {
   "cell_type": "code",
   "execution_count": null,
   "metadata": {},
   "outputs": [],
   "source": [
    "combined_df=merged.dropna()\n",
    "combined_df.head()"
    "test = Mydata[['State', 'County']]\n",
    "print(test)"
   ]
  },
  {
   "cell_type": "code",
   "execution_count": null,
   "metadata": {},
   "outputs": [],
   "source": [
    "# Inser the document into the database\n",
    "# The database and collection, if they don't already exits, will created at this point\n",
    "db.collection.insert_many(combined_df.to_dict('records'))"
   ]
  },
  {
   "cell_type": "code",
   "execution_count": null,
   "metadata": {},
   "outputs": [],
   "source": [
    "print(combined_df.to_dict('records'))"
   ]
  },
  {
   "cell_type": "code",
   "execution_count": null,
   "metadata": {},
   "outputs": [],
   "source": [
    "x = db.collection.find_one()\n",
    "print(x)"
   ]
  },
  {
   "cell_type": "code",
   "execution_count": null,
   "metadata": {},
   "outputs": [],
   "source": [
    "for x in db.collection.find({\"State\": \"AK\"}):\n",
    "  print(x[\"County\"])"
   ]
  },
  {
   "cell_type": "code",
   "execution_count": null,
   "metadata": {},
   "outputs": [],
   "source": [
    "### Vikashes Code ends"
    "#Sonal's Code ends"
   ]
  }
 ],
 "metadata": {
  "kernelspec": {
   "display_name": "Python 3",
   "language": "python",
   "name": "python3"
  },
  "language_info": {
   "codemirror_mode": {
    "name": "ipython",
    "version": 3
   },
   "file_extension": ".py",
   "mimetype": "text/x-python",
   "name": "python",
   "nbconvert_exporter": "python",
   "pygments_lexer": "ipython3",
   "version": "3.6.9"
  }
 },
 "nbformat": 4,
 "nbformat_minor": 2
}
