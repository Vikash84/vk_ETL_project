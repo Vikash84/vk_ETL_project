{
 "cells": [
  {
   "cell_type": "code",
   "execution_count": null,
   "metadata": {},
   "outputs": [],
   "source": [
    "#Dependencies\n",
    "import pandas as pd\n",
    "import pymongo"
   ]
  },
  {
   "cell_type": "code",
   "execution_count": null,
   "metadata": {},
   "outputs": [],
   "source": [
    "conn = 'mongodb://localhost:27017'\n",
    "client = pymongo.MongoClient(conn)\n",
    "# Declare tha Database\n",
    "db = client.diversity_income_db\n",
    "# Declare the collection\n",
    "collection = db.diversity_income_db\n"
   ]
  },
  {
   "cell_type": "code",
   "execution_count": null,
   "metadata": {},
   "outputs": [],
   "source": [
    "#Create diversity data dataframe\n",
    "diversity_df = pd.read_csv('Resources/diversity_data.csv')\n",
    "diversity_df['County'],diversity_df['State'] = diversity_df['Location'].str.rsplit(', ').str\n",
    "diversity_df = diversity_df.drop(columns=['Location'])\n",
    "diversity_df.head()\n"
   ]
  },
  {
   "cell_type": "code",
   "execution_count": null,
   "metadata": {},
   "outputs": [],
   "source": [
    "#Create income data dataframe\n",
    "income_df = pd.read_csv('Resources/income_data.csv')\n",
    "income_df['State'] = income_df['State Code']\n",
    "income_df = income_df.drop(columns=['State Code', 'County-State'])\n",
    "income_df.head()\n"
   ]
  },
  {
   "cell_type": "code",
   "execution_count": null,
   "metadata": {},
   "outputs": [],
   "source": [
    "#Combined dataframe merged on both county and state\n",
    "combined_df = income_df.merge(diversity_df, how = 'inner', right_on= ['County', 'State'], \n",
    "                left_on= ['County', 'State'])\n",
    "#Drop rows with missing values\n",
    "combined_df = combined_df.dropna(axis = 'columns')\n",
    "#Head of dataframe\n",
    "combined_df.head()\n"
   ]
  },
  {
   "cell_type": "code",
   "execution_count": null,
   "metadata": {},
   "outputs": [],
   "source": [
    "#Create \n",
    "db.collection.insert_many(combined_df.to_dict('records'))"
   ]
  },
  {
   "cell_type": "code",
   "execution_count": null,
   "metadata": {},
   "outputs": [],
   "source": [
    "### Brian's code here"
   ]
  },
  {
   "cell_type": "code",
   "execution_count": null,
   "metadata": {},
   "outputs": [],
   "source": [
    "# Query will find every county in Rhode Island\n",
    "myquery = { \"State\": \"RI\" }\n",
    "ri = db.collection.find(myquery)\n",
    "#Find the population and hispanic percentage in each county\n",
    "population_ri =[]\n",
    "hispanic_ri = []\n",
    "for x in ri:\n",
    "    population_ri.append(x['Population'])\n",
    "    hispanic_ri.append(x['Hispanic or Latino, percent, 2013'])"
   ]
  },
  {
   "cell_type": "code",
   "execution_count": null,
   "metadata": {},
   "outputs": [],
   "source": [
    "### Brian's code ends"
   ]
  },
  {
   "cell_type": "code",
   "execution_count": null,
   "metadata": {},
   "outputs": [],
   "source": []
  },
  {
   "cell_type": "code",
   "execution_count": null,
   "metadata": {},
   "outputs": [],
   "source": [
    "### Vikash's code here"
   ]
  },
  {
   "cell_type": "code",
   "execution_count": null,
   "metadata": {},
   "outputs": [],
   "source": []
  },
  {
   "cell_type": "code",
   "execution_count": null,
   "metadata": {},
   "outputs": [],
   "source": [
    "### Vikash's Code ends"
   ]
  },
  {
   "cell_type": "code",
   "execution_count": null,
   "metadata": {},
   "outputs": [],
   "source": []
  },
  {
   "cell_type": "code",
   "execution_count": null,
   "metadata": {},
   "outputs": [],
   "source": [
    "#Sonal's Code"
   ]
  },
  {
   "cell_type": "code",
   "execution_count": null,
   "metadata": {},
   "outputs": [],
   "source": []
  },
  {
   "cell_type": "code",
   "execution_count": null,
   "metadata": {},
   "outputs": [],
   "source": [
    "#Sonal's Code ends"
   ]
  }
 ],
 "metadata": {
  "kernelspec": {
   "display_name": "Python 3",
   "language": "python",
   "name": "python3"
  },
  "language_info": {
   "codemirror_mode": {
    "name": "ipython",
    "version": 3
   },
   "file_extension": ".py",
   "mimetype": "text/x-python",
   "name": "python",
   "nbconvert_exporter": "python",
   "pygments_lexer": "ipython3",
   "version": "3.6.9"
  }
 },
 "nbformat": 4,
 "nbformat_minor": 2
}
