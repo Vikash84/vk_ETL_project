{
 "cells": [
  {
   "cell_type": "code",
   "execution_count": 75,
   "metadata": {},
   "outputs": [],
   "source": [
    "#Dependencies\n",
    "import pandas as pd\n",
    "from sqlalchemy import create_engine\n",
    "import pymongo"
   ]
  },
  {
   "cell_type": "code",
   "execution_count": 76,
   "metadata": {},
   "outputs": [],
   "source": [
    "conn = 'mongodb://localhost:27017'\n",
    "client = pymongo.MongoClient(conn)\n",
    "# Declare tha Database\n",
    "db = client.diversity_income_db\n",
    "# Declare the collection\n",
    "collection = db.diversity_income_db"
   ]
  },
  {
   "cell_type": "code",
   "execution_count": 70,
   "metadata": {},
   "outputs": [
    {
     "data": {
      "text/html": [
       "<div>\n",
       "<style scoped>\n",
       "    .dataframe tbody tr th:only-of-type {\n",
       "        vertical-align: middle;\n",
       "    }\n",
       "\n",
       "    .dataframe tbody tr th {\n",
       "        vertical-align: top;\n",
       "    }\n",
       "\n",
       "    .dataframe thead th {\n",
       "        text-align: right;\n",
       "    }\n",
       "</style>\n",
       "<table border=\"1\" class=\"dataframe\">\n",
       "  <thead>\n",
       "    <tr style=\"text-align: right;\">\n",
       "      <th></th>\n",
       "      <th>Diversity-Index</th>\n",
       "      <th>Black or African American alone, percent, 2013</th>\n",
       "      <th>American Indian and Alaska Native alone, percent, 2013</th>\n",
       "      <th>Asian alone, percent, 2013</th>\n",
       "      <th>Native Hawaiian and Other Pacific Islander alone, percent,</th>\n",
       "      <th>Two or More Races, percent, 2013</th>\n",
       "      <th>Hispanic or Latino, percent, 2013</th>\n",
       "      <th>White alone, not Hispanic or Latino, percent, 2013</th>\n",
       "      <th>County</th>\n",
       "      <th>State</th>\n",
       "    </tr>\n",
       "  </thead>\n",
       "  <tbody>\n",
       "    <tr>\n",
       "      <th>0</th>\n",
       "      <td>0.769346</td>\n",
       "      <td>7.4</td>\n",
       "      <td>13.8</td>\n",
       "      <td>31.1</td>\n",
       "      <td>2.3</td>\n",
       "      <td>4.8</td>\n",
       "      <td>14.6</td>\n",
       "      <td>29.2</td>\n",
       "      <td>Aleutians West Census Area</td>\n",
       "      <td>AK</td>\n",
       "    </tr>\n",
       "    <tr>\n",
       "      <th>1</th>\n",
       "      <td>0.742224</td>\n",
       "      <td>20.9</td>\n",
       "      <td>1.3</td>\n",
       "      <td>25.2</td>\n",
       "      <td>0.2</td>\n",
       "      <td>2.7</td>\n",
       "      <td>28.0</td>\n",
       "      <td>26.7</td>\n",
       "      <td>Queens County</td>\n",
       "      <td>NY</td>\n",
       "    </tr>\n",
       "    <tr>\n",
       "      <th>2</th>\n",
       "      <td>0.740757</td>\n",
       "      <td>0.8</td>\n",
       "      <td>0.6</td>\n",
       "      <td>28.8</td>\n",
       "      <td>10.6</td>\n",
       "      <td>23.3</td>\n",
       "      <td>10.7</td>\n",
       "      <td>31.5</td>\n",
       "      <td>Maui County</td>\n",
       "      <td>HI</td>\n",
       "    </tr>\n",
       "    <tr>\n",
       "      <th>3</th>\n",
       "      <td>0.740399</td>\n",
       "      <td>12.4</td>\n",
       "      <td>1.2</td>\n",
       "      <td>28.2</td>\n",
       "      <td>1.0</td>\n",
       "      <td>5.2</td>\n",
       "      <td>22.7</td>\n",
       "      <td>33.2</td>\n",
       "      <td>Alameda County</td>\n",
       "      <td>CA</td>\n",
       "    </tr>\n",
       "    <tr>\n",
       "      <th>4</th>\n",
       "      <td>0.738867</td>\n",
       "      <td>7.7</td>\n",
       "      <td>21.8</td>\n",
       "      <td>41.4</td>\n",
       "      <td>0.7</td>\n",
       "      <td>3.7</td>\n",
       "      <td>13.5</td>\n",
       "      <td>12.9</td>\n",
       "      <td>Aleutians East Borough</td>\n",
       "      <td>AK</td>\n",
       "    </tr>\n",
       "  </tbody>\n",
       "</table>\n",
       "</div>"
      ],
      "text/plain": [
       "   Diversity-Index  Black or African American alone, percent, 2013  \\\n",
       "0         0.769346                                             7.4   \n",
       "1         0.742224                                            20.9   \n",
       "2         0.740757                                             0.8   \n",
       "3         0.740399                                            12.4   \n",
       "4         0.738867                                             7.7   \n",
       "\n",
       "   American Indian and Alaska Native alone, percent, 2013  \\\n",
       "0                                               13.8        \n",
       "1                                                1.3        \n",
       "2                                                0.6        \n",
       "3                                                1.2        \n",
       "4                                               21.8        \n",
       "\n",
       "   Asian alone, percent, 2013  \\\n",
       "0                        31.1   \n",
       "1                        25.2   \n",
       "2                        28.8   \n",
       "3                        28.2   \n",
       "4                        41.4   \n",
       "\n",
       "   Native Hawaiian and Other Pacific Islander alone, percent,  \\\n",
       "0                                                2.3            \n",
       "1                                                0.2            \n",
       "2                                               10.6            \n",
       "3                                                1.0            \n",
       "4                                                0.7            \n",
       "\n",
       "   Two or More Races, percent, 2013  Hispanic or Latino, percent, 2013  \\\n",
       "0                               4.8                               14.6   \n",
       "1                               2.7                               28.0   \n",
       "2                              23.3                               10.7   \n",
       "3                               5.2                               22.7   \n",
       "4                               3.7                               13.5   \n",
       "\n",
       "   White alone, not Hispanic or Latino, percent, 2013  \\\n",
       "0                                               29.2    \n",
       "1                                               26.7    \n",
       "2                                               31.5    \n",
       "3                                               33.2    \n",
       "4                                               12.9    \n",
       "\n",
       "                       County State  \n",
       "0  Aleutians West Census Area    AK  \n",
       "1               Queens County    NY  \n",
       "2                 Maui County    HI  \n",
       "3              Alameda County    CA  \n",
       "4      Aleutians East Borough    AK  "
      ]
     },
     "execution_count": 70,
     "metadata": {},
     "output_type": "execute_result"
    }
   ],
   "source": [
    "#Create diversity data dataframe\n",
    "diversity_df = pd.read_csv('Resources/diversity_data.csv')\n",
    "diversity_df['County'],diversity_df['State'] = diversity_df['Location'].str.rsplit(', ').str\n",
    "diversity_df = diversity_df.drop(columns=['Location'])\n",
    "diversity_df.head()\n"
   ]
  },
  {
   "cell_type": "code",
   "execution_count": 71,
   "metadata": {},
   "outputs": [
    {
     "data": {
      "text/html": [
       "<div>\n",
       "<style scoped>\n",
       "    .dataframe tbody tr th:only-of-type {\n",
       "        vertical-align: middle;\n",
       "    }\n",
       "\n",
       "    .dataframe tbody tr th {\n",
       "        vertical-align: top;\n",
       "    }\n",
       "\n",
       "    .dataframe thead th {\n",
       "        text-align: right;\n",
       "    }\n",
       "</style>\n",
       "<table border=\"1\" class=\"dataframe\">\n",
       "  <thead>\n",
       "    <tr style=\"text-align: right;\">\n",
       "      <th></th>\n",
       "      <th>County</th>\n",
       "      <th>Population</th>\n",
       "      <th>Median household income</th>\n",
       "      <th>State</th>\n",
       "    </tr>\n",
       "  </thead>\n",
       "  <tbody>\n",
       "    <tr>\n",
       "      <th>0</th>\n",
       "      <td>Autauga County</td>\n",
       "      <td>55221</td>\n",
       "      <td>51281.0</td>\n",
       "      <td>AL</td>\n",
       "    </tr>\n",
       "    <tr>\n",
       "      <th>1</th>\n",
       "      <td>Baldwin County</td>\n",
       "      <td>195121</td>\n",
       "      <td>50254.0</td>\n",
       "      <td>AL</td>\n",
       "    </tr>\n",
       "    <tr>\n",
       "      <th>2</th>\n",
       "      <td>Barbour County</td>\n",
       "      <td>26932</td>\n",
       "      <td>32964.0</td>\n",
       "      <td>AL</td>\n",
       "    </tr>\n",
       "    <tr>\n",
       "      <th>3</th>\n",
       "      <td>Bibb County</td>\n",
       "      <td>22604</td>\n",
       "      <td>38678.0</td>\n",
       "      <td>AL</td>\n",
       "    </tr>\n",
       "    <tr>\n",
       "      <th>4</th>\n",
       "      <td>Blount County</td>\n",
       "      <td>57710</td>\n",
       "      <td>45813.0</td>\n",
       "      <td>AL</td>\n",
       "    </tr>\n",
       "  </tbody>\n",
       "</table>\n",
       "</div>"
      ],
      "text/plain": [
       "           County  Population  Median household income State\n",
       "0  Autauga County       55221                  51281.0    AL\n",
       "1  Baldwin County      195121                  50254.0    AL\n",
       "2  Barbour County       26932                  32964.0    AL\n",
       "3     Bibb County       22604                  38678.0    AL\n",
       "4   Blount County       57710                  45813.0    AL"
      ]
     },
     "execution_count": 71,
     "metadata": {},
     "output_type": "execute_result"
    }
   ],
   "source": [
    "#Create income data dataframe\n",
    "income_df = pd.read_csv('Resources/income_data.csv')\n",
    "income_df['State'] = income_df['State Code']\n",
    "income_df = income_df.drop(columns=['State Code', 'County-State'])\n",
    "income_df.head()\n"
   ]
  },
  {
   "cell_type": "code",
   "execution_count": null,
   "metadata": {},
   "outputs": [],
   "source": [
    "#Combined\n",
    "combined_df = income_df.merge(diversity_df, how = 'inner', right_on= ['County', 'State'], \n",
    "                left_on= ['County', 'State'])\n",
    "combined_df.head()"
   ]
  },
  {
   "cell_type": "code",
   "execution_count": null,
   "metadata": {},
   "outputs": [],
   "source": [
    "### Brian's code here"
   ]
  },
  {
   "cell_type": "code",
   "execution_count": null,
   "metadata": {},
   "outputs": [],
   "source": []
  },
  {
   "cell_type": "code",
   "execution_count": null,
   "metadata": {},
   "outputs": [],
   "source": []
  },
  {
   "cell_type": "code",
   "execution_count": null,
   "metadata": {},
   "outputs": [],
   "source": []
  },
  {
   "cell_type": "code",
   "execution_count": 65,
   "metadata": {},
   "outputs": [],
   "source": [
    "### Brian's code ends"
   ]
  },
  {
   "cell_type": "code",
   "execution_count": null,
   "metadata": {},
   "outputs": [],
   "source": []
  },
  {
   "cell_type": "code",
   "execution_count": null,
   "metadata": {},
   "outputs": [],
   "source": [
    "### Vikash's code here"
   ]
  },
  {
   "cell_type": "code",
   "execution_count": null,
   "metadata": {},
   "outputs": [],
   "source": []
  },
  {
   "cell_type": "code",
   "execution_count": 5,
   "metadata": {},
   "outputs": [],
   "source": [
    "### Vikash's Code ends"
   ]
  },
  {
   "cell_type": "code",
   "execution_count": 44,
   "metadata": {},
   "outputs": [],
   "source": [
    "#Sonal's Code"
   ]
  },
  {
   "cell_type": "code",
   "execution_count": null,
   "metadata": {},
   "outputs": [],
   "source": []
  },
  {
   "cell_type": "code",
   "execution_count": 78,
   "metadata": {},
   "outputs": [
    {
     "data": {
      "text/plain": [
       "<pymongo.results.InsertManyResult at 0x20a0309e308>"
      ]
     },
     "execution_count": 78,
     "metadata": {},
     "output_type": "execute_result"
    }
   ],
   "source": [
    "db.collection.insert_many(combined_df.to_dict('records'))"
   ]
  },
  {
   "cell_type": "code",
   "execution_count": null,
   "metadata": {},
   "outputs": [],
   "source": []
  }
 ],
 "metadata": {
  "kernelspec": {
   "display_name": "Python 3",
   "language": "python",
   "name": "python3"
  },
  "language_info": {
   "codemirror_mode": {
    "name": "ipython",
    "version": 3
   },
   "file_extension": ".py",
   "mimetype": "text/x-python",
   "name": "python",
   "nbconvert_exporter": "python",
   "pygments_lexer": "ipython3",
   "version": "3.6.9"
  }
 },
 "nbformat": 4,
 "nbformat_minor": 2
}
